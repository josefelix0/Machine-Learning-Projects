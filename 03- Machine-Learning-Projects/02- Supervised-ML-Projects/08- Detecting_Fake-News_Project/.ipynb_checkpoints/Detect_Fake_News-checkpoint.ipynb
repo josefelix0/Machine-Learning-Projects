{
 "cells": [
  {
   "cell_type": "markdown",
   "id": "76493a42",
   "metadata": {},
   "source": [
    "# The Project Fake News Detection ::\n",
    "**************************************\n",
    "<img src=\"Detection.jpg\" />\n"
   ]
  },
  {
   "cell_type": "markdown",
   "id": "14888e7b",
   "metadata": {},
   "source": [
    "* Table of Contetnt ::\n",
    "************************************************\n",
    "<ul>\n",
    "<li><a href=\"#Intro\">Introduction</a></li>\n",
    "<li><a href=\"#Wrangling\">Exploratory Data Analysis (EDA)</a></li>\n",
    "<li><a href=\"#visualize\">Data_Visualization_Process</a></li>\n",
    "<li><a href=\"#ETl\">ETl_Process</a></li>\n",
    "<li><a href=\"#Prepration\">Data_Prepration</a></li>\n",
    "<li><a href=\"#Model\">Bulid_ML_Model</a></li>\n",
    "<li><a href=\"#Evaluation\">Evaluate_Model</a></li>\n",
    "<li><a href=\"#Save\">Save_Model</a></li>\n",
    "<li><a href=\"#conclusions\">Conclusions</a></li>\n",
    "</ul>"
   ]
  },
  {
   "cell_type": "markdown",
   "id": "82ee6193",
   "metadata": {},
   "source": [
    "<p id=\"Intro\">Introduction</p>"
   ]
  },
  {
   "cell_type": "markdown",
   "id": "cd3205fb",
   "metadata": {},
   "source": [
    "# Detecting Fake News with Python and Machine Learning :\n",
    "****************************************************\n",
    " <img src=\"System.png\" />\n",
    "\n",
    "\n",
    "\n",
    " * Do you trust all the news you hear from social media?\n",
    "\n",
    " * All news are not real, right?\n",
    "\n",
    " * How will you detect fake news?\n",
    "\n",
    " * The answer is Python. By practicing this advanced python project of detecting fake news, you will easily make a difference between real and fake news.\n",
    "\n",
    " * Before moving ahead in this machine learning project, get aware of the terms related to it like fake news, tfidfvectorizer, PassiveAggressive Classifier.\n",
    "\n",
    " * Also, I like to add that DataFlair has published a series of machine learning Projects where you will get interesting and open-source advanced ml projects. Do check, and then share your experience through comments. Here is the list of top Python projects:\n",
    " \n",
    " \n",
    " <img src=\"Model.png\" />\n"
   ]
  },
  {
   "cell_type": "markdown",
   "id": "3a0081f7",
   "metadata": {},
   "source": [
    "* Importing requried liberaries and Frameworks  ::"
   ]
  },
  {
   "cell_type": "code",
   "execution_count": 1,
   "id": "08c58e14",
   "metadata": {},
   "outputs": [],
   "source": [
    "# Importing Liberaries and Framworks ::\n",
    "import numpy     as np      # Apply Linear_Algebra operations and deal with arrays.\n",
    "import pandas    as pd      # For Loading diff formats of data and Apply Wrangling and Mainpulating on data\n",
    "import seaborn   as sns     # For Visualizing data\n",
    "import warnings  as w       # For Ignoring any Warning\n",
    "import missingno as mno     # Presnt Precentage of Nan Values\n",
    "import datasist  as ds      # For Apply EDA and Visualization Using Simple Implementation\n",
    "import matplotlib.pyplot as plt # For Set Plots , Charts and Maps Labels and Title  \n",
    "import pandas_profiling  as pp  # To get describtion file of data\n"
   ]
  },
  {
   "cell_type": "markdown",
   "id": "1e3cdafb",
   "metadata": {},
   "source": [
    "* Set some instructions"
   ]
  },
  {
   "cell_type": "code",
   "execution_count": 2,
   "id": "1cfde445",
   "metadata": {},
   "outputs": [],
   "source": [
    "# To Make Matplotlib apply on any Version\n",
    "%matplotlib inline      \n",
    "# To ignore any Warning notification.\n",
    "w.filterwarnings(\"ignore\") \n",
    "# To Set Figsize of Plots , Charts and Maps\n",
    "sns.set( rc = {\"figure.figsize\" : [50 , 35]} , font_scale=3.5)"
   ]
  },
  {
   "cell_type": "code",
   "execution_count": 3,
   "id": "dd4395ee",
   "metadata": {},
   "outputs": [
    {
     "data": {
      "text/html": [
       "<div>\n",
       "<style scoped>\n",
       "    .dataframe tbody tr th:only-of-type {\n",
       "        vertical-align: middle;\n",
       "    }\n",
       "\n",
       "    .dataframe tbody tr th {\n",
       "        vertical-align: top;\n",
       "    }\n",
       "\n",
       "    .dataframe thead th {\n",
       "        text-align: right;\n",
       "    }\n",
       "</style>\n",
       "<table border=\"1\" class=\"dataframe\">\n",
       "  <thead>\n",
       "    <tr style=\"text-align: right;\">\n",
       "      <th></th>\n",
       "      <th>Unnamed: 0</th>\n",
       "      <th>title</th>\n",
       "      <th>text</th>\n",
       "      <th>label</th>\n",
       "    </tr>\n",
       "  </thead>\n",
       "  <tbody>\n",
       "    <tr>\n",
       "      <th>0</th>\n",
       "      <td>8476</td>\n",
       "      <td>You Can Smell Hillary’s Fear</td>\n",
       "      <td>Daniel Greenfield, a Shillman Journalism Fello...</td>\n",
       "      <td>FAKE</td>\n",
       "    </tr>\n",
       "    <tr>\n",
       "      <th>1</th>\n",
       "      <td>10294</td>\n",
       "      <td>Watch The Exact Moment Paul Ryan Committed Pol...</td>\n",
       "      <td>Google Pinterest Digg Linkedin Reddit Stumbleu...</td>\n",
       "      <td>FAKE</td>\n",
       "    </tr>\n",
       "    <tr>\n",
       "      <th>2</th>\n",
       "      <td>3608</td>\n",
       "      <td>Kerry to go to Paris in gesture of sympathy</td>\n",
       "      <td>U.S. Secretary of State John F. Kerry said Mon...</td>\n",
       "      <td>REAL</td>\n",
       "    </tr>\n",
       "    <tr>\n",
       "      <th>3</th>\n",
       "      <td>10142</td>\n",
       "      <td>Bernie supporters on Twitter erupt in anger ag...</td>\n",
       "      <td>— Kaydee King (@KaydeeKing) November 9, 2016 T...</td>\n",
       "      <td>FAKE</td>\n",
       "    </tr>\n",
       "    <tr>\n",
       "      <th>4</th>\n",
       "      <td>875</td>\n",
       "      <td>The Battle of New York: Why This Primary Matters</td>\n",
       "      <td>It's primary day in New York and front-runners...</td>\n",
       "      <td>REAL</td>\n",
       "    </tr>\n",
       "    <tr>\n",
       "      <th>...</th>\n",
       "      <td>...</td>\n",
       "      <td>...</td>\n",
       "      <td>...</td>\n",
       "      <td>...</td>\n",
       "    </tr>\n",
       "    <tr>\n",
       "      <th>6330</th>\n",
       "      <td>4490</td>\n",
       "      <td>State Department says it can't find emails fro...</td>\n",
       "      <td>The State Department told the Republican Natio...</td>\n",
       "      <td>REAL</td>\n",
       "    </tr>\n",
       "    <tr>\n",
       "      <th>6331</th>\n",
       "      <td>8062</td>\n",
       "      <td>The ‘P’ in PBS Should Stand for ‘Plutocratic’ ...</td>\n",
       "      <td>The ‘P’ in PBS Should Stand for ‘Plutocratic’ ...</td>\n",
       "      <td>FAKE</td>\n",
       "    </tr>\n",
       "    <tr>\n",
       "      <th>6332</th>\n",
       "      <td>8622</td>\n",
       "      <td>Anti-Trump Protesters Are Tools of the Oligarc...</td>\n",
       "      <td>Anti-Trump Protesters Are Tools of the Oligar...</td>\n",
       "      <td>FAKE</td>\n",
       "    </tr>\n",
       "    <tr>\n",
       "      <th>6333</th>\n",
       "      <td>4021</td>\n",
       "      <td>In Ethiopia, Obama seeks progress on peace, se...</td>\n",
       "      <td>ADDIS ABABA, Ethiopia —President Obama convene...</td>\n",
       "      <td>REAL</td>\n",
       "    </tr>\n",
       "    <tr>\n",
       "      <th>6334</th>\n",
       "      <td>4330</td>\n",
       "      <td>Jeb Bush Is Suddenly Attacking Trump. Here's W...</td>\n",
       "      <td>Jeb Bush Is Suddenly Attacking Trump. Here's W...</td>\n",
       "      <td>REAL</td>\n",
       "    </tr>\n",
       "  </tbody>\n",
       "</table>\n",
       "<p>6335 rows × 4 columns</p>\n",
       "</div>"
      ],
      "text/plain": [
       "      Unnamed: 0                                              title  \\\n",
       "0           8476                       You Can Smell Hillary’s Fear   \n",
       "1          10294  Watch The Exact Moment Paul Ryan Committed Pol...   \n",
       "2           3608        Kerry to go to Paris in gesture of sympathy   \n",
       "3          10142  Bernie supporters on Twitter erupt in anger ag...   \n",
       "4            875   The Battle of New York: Why This Primary Matters   \n",
       "...          ...                                                ...   \n",
       "6330        4490  State Department says it can't find emails fro...   \n",
       "6331        8062  The ‘P’ in PBS Should Stand for ‘Plutocratic’ ...   \n",
       "6332        8622  Anti-Trump Protesters Are Tools of the Oligarc...   \n",
       "6333        4021  In Ethiopia, Obama seeks progress on peace, se...   \n",
       "6334        4330  Jeb Bush Is Suddenly Attacking Trump. Here's W...   \n",
       "\n",
       "                                                   text label  \n",
       "0     Daniel Greenfield, a Shillman Journalism Fello...  FAKE  \n",
       "1     Google Pinterest Digg Linkedin Reddit Stumbleu...  FAKE  \n",
       "2     U.S. Secretary of State John F. Kerry said Mon...  REAL  \n",
       "3     — Kaydee King (@KaydeeKing) November 9, 2016 T...  FAKE  \n",
       "4     It's primary day in New York and front-runners...  REAL  \n",
       "...                                                 ...   ...  \n",
       "6330  The State Department told the Republican Natio...  REAL  \n",
       "6331  The ‘P’ in PBS Should Stand for ‘Plutocratic’ ...  FAKE  \n",
       "6332   Anti-Trump Protesters Are Tools of the Oligar...  FAKE  \n",
       "6333  ADDIS ABABA, Ethiopia —President Obama convene...  REAL  \n",
       "6334  Jeb Bush Is Suddenly Attacking Trump. Here's W...  REAL  \n",
       "\n",
       "[6335 rows x 4 columns]"
      ]
     },
     "execution_count": 3,
     "metadata": {},
     "output_type": "execute_result"
    }
   ],
   "source": [
    "# Loading dataset ::\n",
    "df = pd.read_csv(\"news.csv\")\n",
    "df"
   ]
  },
  {
   "cell_type": "markdown",
   "id": "e2749a47",
   "metadata": {},
   "source": [
    "<p id=\"Wrangling\">Exploratory data analysis</p>"
   ]
  },
  {
   "cell_type": "markdown",
   "id": "56014c19",
   "metadata": {},
   "source": [
    "* *EDA Task* ::\n",
    "    *  It one of the most important phase of data scientist life cycle which we apply some statistical oprations toidentify the Behaviour of data  to extract meaningful knowledge , insights and vesion from that data to help steckholders to make more efficient decision which improve and enhance our Buesines."
   ]
  },
  {
   "cell_type": "markdown",
   "id": "cf869d7a",
   "metadata": {},
   "source": [
    "* Statistical analysis Process ::"
   ]
  },
  {
   "cell_type": "code",
   "execution_count": 4,
   "id": "bcceb845",
   "metadata": {},
   "outputs": [
    {
     "data": {
      "text/plain": [
       "Index(['Unnamed: 0', 'title', 'text', 'label'], dtype='object')"
      ]
     },
     "execution_count": 4,
     "metadata": {},
     "output_type": "execute_result"
    }
   ],
   "source": [
    "df.columns"
   ]
  },
  {
   "cell_type": "code",
   "execution_count": 5,
   "id": "89f72cd0",
   "metadata": {},
   "outputs": [
    {
     "data": {
      "text/plain": [
       "Unnamed: 0     int64\n",
       "title         object\n",
       "text          object\n",
       "label         object\n",
       "dtype: object"
      ]
     },
     "execution_count": 5,
     "metadata": {},
     "output_type": "execute_result"
    }
   ],
   "source": [
    "df.dtypes"
   ]
  },
  {
   "cell_type": "code",
   "execution_count": 6,
   "id": "9f5b00c8",
   "metadata": {},
   "outputs": [
    {
     "name": "stdout",
     "output_type": "stream",
     "text": [
      "<class 'pandas.core.frame.DataFrame'>\n",
      "RangeIndex: 6335 entries, 0 to 6334\n",
      "Data columns (total 4 columns):\n",
      " #   Column      Non-Null Count  Dtype \n",
      "---  ------      --------------  ----- \n",
      " 0   Unnamed: 0  6335 non-null   int64 \n",
      " 1   title       6335 non-null   object\n",
      " 2   text        6335 non-null   object\n",
      " 3   label       6335 non-null   object\n",
      "dtypes: int64(1), object(3)\n",
      "memory usage: 198.1+ KB\n"
     ]
    }
   ],
   "source": [
    "df.info()"
   ]
  },
  {
   "cell_type": "code",
   "execution_count": 7,
   "id": "32f32c99",
   "metadata": {},
   "outputs": [
    {
     "data": {
      "text/html": [
       "<div>\n",
       "<style scoped>\n",
       "    .dataframe tbody tr th:only-of-type {\n",
       "        vertical-align: middle;\n",
       "    }\n",
       "\n",
       "    .dataframe tbody tr th {\n",
       "        vertical-align: top;\n",
       "    }\n",
       "\n",
       "    .dataframe thead th {\n",
       "        text-align: right;\n",
       "    }\n",
       "</style>\n",
       "<table border=\"1\" class=\"dataframe\">\n",
       "  <thead>\n",
       "    <tr style=\"text-align: right;\">\n",
       "      <th></th>\n",
       "      <th>title</th>\n",
       "      <th>text</th>\n",
       "      <th>label</th>\n",
       "    </tr>\n",
       "  </thead>\n",
       "  <tbody>\n",
       "    <tr>\n",
       "      <th>count</th>\n",
       "      <td>6335</td>\n",
       "      <td>6335</td>\n",
       "      <td>6335</td>\n",
       "    </tr>\n",
       "    <tr>\n",
       "      <th>unique</th>\n",
       "      <td>6256</td>\n",
       "      <td>6060</td>\n",
       "      <td>2</td>\n",
       "    </tr>\n",
       "    <tr>\n",
       "      <th>top</th>\n",
       "      <td>OnPolitics | 's politics blog</td>\n",
       "      <td>Killing Obama administration rules, dismantlin...</td>\n",
       "      <td>REAL</td>\n",
       "    </tr>\n",
       "    <tr>\n",
       "      <th>freq</th>\n",
       "      <td>5</td>\n",
       "      <td>58</td>\n",
       "      <td>3171</td>\n",
       "    </tr>\n",
       "  </tbody>\n",
       "</table>\n",
       "</div>"
      ],
      "text/plain": [
       "                                title  \\\n",
       "count                            6335   \n",
       "unique                           6256   \n",
       "top     OnPolitics | 's politics blog   \n",
       "freq                                5   \n",
       "\n",
       "                                                     text label  \n",
       "count                                                6335  6335  \n",
       "unique                                               6060     2  \n",
       "top     Killing Obama administration rules, dismantlin...  REAL  \n",
       "freq                                                   58  3171  "
      ]
     },
     "execution_count": 7,
     "metadata": {},
     "output_type": "execute_result"
    }
   ],
   "source": [
    "# present the Statistical Analysis description of Categorical_data ::\n",
    "df.describe(include=\"object\")"
   ]
  },
  {
   "cell_type": "code",
   "execution_count": 8,
   "id": "06afe4be",
   "metadata": {},
   "outputs": [
    {
     "data": {
      "text/plain": [
       "Unnamed: 0    6335\n",
       "title         6256\n",
       "text          6060\n",
       "label            2\n",
       "dtype: int64"
      ]
     },
     "execution_count": 8,
     "metadata": {},
     "output_type": "execute_result"
    }
   ],
   "source": [
    "# Present nuniques :: To identifing the duplicaties data\n",
    "df.nunique()"
   ]
  },
  {
   "cell_type": "code",
   "execution_count": 9,
   "id": "bb04d1d7",
   "metadata": {},
   "outputs": [
    {
     "data": {
      "text/plain": [
       "0"
      ]
     },
     "execution_count": 9,
     "metadata": {},
     "output_type": "execute_result"
    }
   ],
   "source": [
    "df.duplicated().sum()"
   ]
  },
  {
   "cell_type": "code",
   "execution_count": 10,
   "id": "6e18ffc7",
   "metadata": {},
   "outputs": [],
   "source": [
    "# Droping All repeat or Redendant data.\n",
    "df.drop_duplicates(inplace=True)"
   ]
  },
  {
   "cell_type": "markdown",
   "id": "5d030a7c",
   "metadata": {},
   "source": [
    "<p id=\"visualize\"> Visualization-Process</p>"
   ]
  },
  {
   "cell_type": "markdown",
   "id": "d10e6c32",
   "metadata": {},
   "source": [
    "* Apply Data-Visualization Process :: visualization data one of the most important process on data scientist life cycle which we use some viualize element such (charts , plots ,maps) to identify the pattern , Trends and outliers on data."
   ]
  },
  {
   "cell_type": "code",
   "execution_count": 11,
   "id": "5fbd735a",
   "metadata": {},
   "outputs": [
    {
     "data": {
      "text/plain": [
       "REAL    3171\n",
       "FAKE    3164\n",
       "Name: label, dtype: int64"
      ]
     },
     "execution_count": 11,
     "metadata": {},
     "output_type": "execute_result"
    }
   ],
   "source": [
    "# To Present Sex of Clients ::\n",
    "labels = df[\"label\"].value_counts()\n",
    "labels"
   ]
  },
  {
   "cell_type": "code",
   "execution_count": 12,
   "id": "2af3ec72",
   "metadata": {},
   "outputs": [
    {
     "data": {
      "image/png": "[encoded data removed]",
      "text/plain": [
       "<Figure size 1440x1440 with 1 Axes>"
      ]
     },
     "metadata": {},
     "output_type": "display_data"
    }
   ],
   "source": [
    "# Visualize Comparing aMonge Male and Female ::\n",
    "sns.set( rc = {\"figure.figsize\" : [20 ,20]} , font_scale=1.5)\n",
    "labels.plot.pie(autopct = \"%1.0f%%\" , radius = 0.8 , labeldistance = 1.2 , fontsize = 30)\n",
    "plt.title(\"Pie Chart of labels\")\n",
    "plt.show()"
   ]
  },
  {
   "cell_type": "code",
   "execution_count": 13,
   "id": "4a7bded4",
   "metadata": {},
   "outputs": [
    {
     "data": {
      "text/plain": [
       "Text(0.5, 1.0, 'Count Plot of label ')"
      ]
     },
     "execution_count": 13,
     "metadata": {},
     "output_type": "execute_result"
    },
    {
     "data": {
      "image/png": "[encoded data removed]",
      "text/plain": [
       "<Figure size 1440x1440 with 1 Axes>"
      ]
     },
     "metadata": {},
     "output_type": "display_data"
    }
   ],
   "source": [
    "sns.countplot( x = \"label\"  , data = df , palette=\"viridis\")\n",
    "plt.title(\"Count Plot of label \")"
   ]
  },
  {
   "cell_type": "markdown",
   "id": "9f5e3073",
   "metadata": {},
   "source": [
    "<p id = \"ETl\">ETL-Process</p>"
   ]
  },
  {
   "cell_type": "markdown",
   "id": "e891817f",
   "metadata": {},
   "source": [
    "# 1 - Feature_Engineering Technice ::\n",
    "*********************************************************************\n",
    "* Its one of the most important phase in data scientist life cycle which use to generate new usefull features from the old  features which not enough for train model."
   ]
  },
  {
   "cell_type": "code",
   "execution_count": 14,
   "id": "0e21ed3d",
   "metadata": {},
   "outputs": [
    {
     "data": {
      "text/html": [
       "<div>\n",
       "<style scoped>\n",
       "    .dataframe tbody tr th:only-of-type {\n",
       "        vertical-align: middle;\n",
       "    }\n",
       "\n",
       "    .dataframe tbody tr th {\n",
       "        vertical-align: top;\n",
       "    }\n",
       "\n",
       "    .dataframe thead th {\n",
       "        text-align: right;\n",
       "    }\n",
       "</style>\n",
       "<table border=\"1\" class=\"dataframe\">\n",
       "  <thead>\n",
       "    <tr style=\"text-align: right;\">\n",
       "      <th></th>\n",
       "      <th>Unnamed: 0</th>\n",
       "      <th>title</th>\n",
       "      <th>text</th>\n",
       "      <th>label</th>\n",
       "    </tr>\n",
       "  </thead>\n",
       "  <tbody>\n",
       "    <tr>\n",
       "      <th>0</th>\n",
       "      <td>8476</td>\n",
       "      <td>You Can Smell Hillary’s Fear</td>\n",
       "      <td>Daniel Greenfield, a Shillman Journalism Fello...</td>\n",
       "      <td>FAKE</td>\n",
       "    </tr>\n",
       "    <tr>\n",
       "      <th>1</th>\n",
       "      <td>10294</td>\n",
       "      <td>Watch The Exact Moment Paul Ryan Committed Pol...</td>\n",
       "      <td>Google Pinterest Digg Linkedin Reddit Stumbleu...</td>\n",
       "      <td>FAKE</td>\n",
       "    </tr>\n",
       "    <tr>\n",
       "      <th>2</th>\n",
       "      <td>3608</td>\n",
       "      <td>Kerry to go to Paris in gesture of sympathy</td>\n",
       "      <td>U.S. Secretary of State John F. Kerry said Mon...</td>\n",
       "      <td>REAL</td>\n",
       "    </tr>\n",
       "    <tr>\n",
       "      <th>3</th>\n",
       "      <td>10142</td>\n",
       "      <td>Bernie supporters on Twitter erupt in anger ag...</td>\n",
       "      <td>— Kaydee King (@KaydeeKing) November 9, 2016 T...</td>\n",
       "      <td>FAKE</td>\n",
       "    </tr>\n",
       "    <tr>\n",
       "      <th>4</th>\n",
       "      <td>875</td>\n",
       "      <td>The Battle of New York: Why This Primary Matters</td>\n",
       "      <td>It's primary day in New York and front-runners...</td>\n",
       "      <td>REAL</td>\n",
       "    </tr>\n",
       "    <tr>\n",
       "      <th>...</th>\n",
       "      <td>...</td>\n",
       "      <td>...</td>\n",
       "      <td>...</td>\n",
       "      <td>...</td>\n",
       "    </tr>\n",
       "    <tr>\n",
       "      <th>6330</th>\n",
       "      <td>4490</td>\n",
       "      <td>State Department says it can't find emails fro...</td>\n",
       "      <td>The State Department told the Republican Natio...</td>\n",
       "      <td>REAL</td>\n",
       "    </tr>\n",
       "    <tr>\n",
       "      <th>6331</th>\n",
       "      <td>8062</td>\n",
       "      <td>The ‘P’ in PBS Should Stand for ‘Plutocratic’ ...</td>\n",
       "      <td>The ‘P’ in PBS Should Stand for ‘Plutocratic’ ...</td>\n",
       "      <td>FAKE</td>\n",
       "    </tr>\n",
       "    <tr>\n",
       "      <th>6332</th>\n",
       "      <td>8622</td>\n",
       "      <td>Anti-Trump Protesters Are Tools of the Oligarc...</td>\n",
       "      <td>Anti-Trump Protesters Are Tools of the Oligar...</td>\n",
       "      <td>FAKE</td>\n",
       "    </tr>\n",
       "    <tr>\n",
       "      <th>6333</th>\n",
       "      <td>4021</td>\n",
       "      <td>In Ethiopia, Obama seeks progress on peace, se...</td>\n",
       "      <td>ADDIS ABABA, Ethiopia —President Obama convene...</td>\n",
       "      <td>REAL</td>\n",
       "    </tr>\n",
       "    <tr>\n",
       "      <th>6334</th>\n",
       "      <td>4330</td>\n",
       "      <td>Jeb Bush Is Suddenly Attacking Trump. Here's W...</td>\n",
       "      <td>Jeb Bush Is Suddenly Attacking Trump. Here's W...</td>\n",
       "      <td>REAL</td>\n",
       "    </tr>\n",
       "  </tbody>\n",
       "</table>\n",
       "<p>6335 rows × 4 columns</p>\n",
       "</div>"
      ],
      "text/plain": [
       "      Unnamed: 0                                              title  \\\n",
       "0           8476                       You Can Smell Hillary’s Fear   \n",
       "1          10294  Watch The Exact Moment Paul Ryan Committed Pol...   \n",
       "2           3608        Kerry to go to Paris in gesture of sympathy   \n",
       "3          10142  Bernie supporters on Twitter erupt in anger ag...   \n",
       "4            875   The Battle of New York: Why This Primary Matters   \n",
       "...          ...                                                ...   \n",
       "6330        4490  State Department says it can't find emails fro...   \n",
       "6331        8062  The ‘P’ in PBS Should Stand for ‘Plutocratic’ ...   \n",
       "6332        8622  Anti-Trump Protesters Are Tools of the Oligarc...   \n",
       "6333        4021  In Ethiopia, Obama seeks progress on peace, se...   \n",
       "6334        4330  Jeb Bush Is Suddenly Attacking Trump. Here's W...   \n",
       "\n",
       "                                                   text label  \n",
       "0     Daniel Greenfield, a Shillman Journalism Fello...  FAKE  \n",
       "1     Google Pinterest Digg Linkedin Reddit Stumbleu...  FAKE  \n",
       "2     U.S. Secretary of State John F. Kerry said Mon...  REAL  \n",
       "3     — Kaydee King (@KaydeeKing) November 9, 2016 T...  FAKE  \n",
       "4     It's primary day in New York and front-runners...  REAL  \n",
       "...                                                 ...   ...  \n",
       "6330  The State Department told the Republican Natio...  REAL  \n",
       "6331  The ‘P’ in PBS Should Stand for ‘Plutocratic’ ...  FAKE  \n",
       "6332   Anti-Trump Protesters Are Tools of the Oligar...  FAKE  \n",
       "6333  ADDIS ABABA, Ethiopia —President Obama convene...  REAL  \n",
       "6334  Jeb Bush Is Suddenly Attacking Trump. Here's W...  REAL  \n",
       "\n",
       "[6335 rows x 4 columns]"
      ]
     },
     "execution_count": 14,
     "metadata": {},
     "output_type": "execute_result"
    }
   ],
   "source": [
    "df"
   ]
  },
  {
   "cell_type": "markdown",
   "id": "a6e6eca6",
   "metadata": {},
   "source": [
    "<p id = \"Prepration\">Data-Prepration</p>"
   ]
  },
  {
   "cell_type": "code",
   "execution_count": 15,
   "id": "cfb9bce3",
   "metadata": {},
   "outputs": [],
   "source": [
    "# split data into input and output data ::\n",
    "x = df[\"text\"]\n",
    "y = df[\"label\"]"
   ]
  },
  {
   "cell_type": "code",
   "execution_count": 16,
   "id": "21f0f941",
   "metadata": {},
   "outputs": [],
   "source": [
    "# split data into Train and Test data ::\n",
    "from sklearn.model_selection import train_test_split\n",
    "x_train , x_test , y_train , y_test = train_test_split(x , y , test_size=0.2 ,random_state=20)"
   ]
  },
  {
   "cell_type": "code",
   "execution_count": 17,
   "id": "b39d971c",
   "metadata": {},
   "outputs": [],
   "source": [
    "# Now, fit and transform the vectorizer on the train set, and transform the vectorizer on the test set.\n",
    "\n",
    "from sklearn.feature_extraction.text import TfidfVectorizer\n",
    "vectorizer = TfidfVectorizer(stop_words=\"english\" , max_df=0.7)\n",
    "tf_train = vectorizer.fit_transform(x_train)\n",
    "tf_test  = vectorizer.transform(x_test)\n"
   ]
  },
  {
   "cell_type": "markdown",
   "id": "05458782",
   "metadata": {},
   "source": [
    "<p id = \"Model\">Bulid_ML_Model</p>"
   ]
  },
  {
   "cell_type": "markdown",
   "id": "12752cdd",
   "metadata": {},
   "source": [
    "*  Bulding Models For Classification"
   ]
  },
  {
   "cell_type": "code",
   "execution_count": 18,
   "id": "4b07de1a",
   "metadata": {},
   "outputs": [],
   "source": [
    "# Import All Classification Algos ::\n",
    "from sklearn.linear_model import LogisticRegression \n",
    "from sklearn.linear_model import PassiveAggressiveClassifier \n",
    "from sklearn.tree import DecisionTreeClassifier\n",
    "from sklearn.ensemble import RandomForestClassifier\n",
    "from sklearn.naive_bayes import GaussianNB , MultinomialNB\n",
    "from sklearn.neighbors import KNeighborsClassifier\n",
    "from sklearn.svm import SVC\n",
    "from xgboost import XGBClassifier\n",
    "from sklearn.metrics import accuracy_score , confusion_matrix \n",
    "from sklearn.metrics import classification_report , f1_score , precision_recall_curve"
   ]
  },
  {
   "cell_type": "code",
   "execution_count": 21,
   "id": "a12c560a",
   "metadata": {},
   "outputs": [],
   "source": [
    "Models = {\"Log_Classifer\" : LogisticRegression() ,\n",
    "          \"PCA_Classifier\":PassiveAggressiveClassifier(),\n",
    "          \"DT_Classifer\"  : DecisionTreeClassifier() ,\n",
    "          \"RF_Classifer\"  : RandomForestClassifier() ,\n",
    "          \"XGB_Classifer\" : XGBClassifier() ,\n",
    "          \"SVC_Classifer\" : SVC(),\n",
    "          #\"GassianNB_Classifiier\" : GaussianNB() ,\n",
    "          \"KNN_Classifier\" : KNeighborsClassifier()\n",
    "         }"
   ]
  },
  {
   "cell_type": "code",
   "execution_count": 22,
   "id": "b22092f8",
   "metadata": {},
   "outputs": [
    {
     "name": "stdout",
     "output_type": "stream",
     "text": [
      "The Model :: Log_Classifer\n",
      "----------\n",
      "The Traing_Score :: 0.9563930544593529\n",
      "The Testing_Score :: 0.9226519337016574\n",
      "The Accuracy_Scor :: 0.9226519337016574\n",
      "The Con_Matrix ::\n",
      " [[619  29]\n",
      " [ 69 550]]\n",
      "--------------\n",
      "----\n",
      "The Model :: PCA_Classifier\n",
      "----------\n",
      "The Traing_Score :: 1.0\n",
      "The Testing_Score :: 0.9463299131807419\n",
      "The Accuracy_Scor :: 0.9463299131807419\n",
      "The Con_Matrix ::\n",
      " [[621  27]\n",
      " [ 41 578]]\n",
      "--------------\n",
      "----\n",
      "The Model :: DT_Classifer\n",
      "----------\n",
      "The Traing_Score :: 1.0\n",
      "The Testing_Score :: 0.8310970797158642\n",
      "The Accuracy_Scor :: 0.8310970797158642\n",
      "The Con_Matrix ::\n",
      " [[533 115]\n",
      " [ 99 520]]\n",
      "--------------\n",
      "----\n",
      "The Model :: RF_Classifer\n",
      "----------\n",
      "The Traing_Score :: 1.0\n",
      "The Testing_Score :: 0.9084451460142068\n",
      "The Accuracy_Scor :: 0.9084451460142068\n",
      "The Con_Matrix ::\n",
      " [[587  61]\n",
      " [ 55 564]]\n",
      "--------------\n",
      "----\n",
      "The Model :: XGB_Classifer\n",
      "----------\n",
      "[06:25:29] WARNING: C:/Users/Administrator/workspace/xgboost-win64_release_1.4.0/src/learner.cc:1095: Starting in XGBoost 1.3.0, the default evaluation metric used with the objective 'binary:logistic' was changed from 'error' to 'logloss'. Explicitly set eval_metric if you'd like to restore the old behavior.\n",
      "The Traing_Score :: 0.9976322020520916\n",
      "The Testing_Score :: 0.9329123914759274\n",
      "The Accuracy_Scor :: 0.9329123914759274\n",
      "The Con_Matrix ::\n",
      " [[607  41]\n",
      " [ 44 575]]\n",
      "--------------\n",
      "----\n",
      "The Model :: SVC_Classifer\n",
      "----------\n",
      "The Traing_Score :: 0.9982241515390686\n",
      "The Testing_Score :: 0.9408050513022889\n",
      "The Accuracy_Scor :: 0.9408050513022889\n",
      "The Con_Matrix ::\n",
      " [[631  17]\n",
      " [ 58 561]]\n",
      "--------------\n",
      "----\n",
      "The Model :: KNN_Classifier\n",
      "----------\n",
      "The Traing_Score :: 0.5874112075769534\n",
      "The Testing_Score :: 0.5824782951854776\n",
      "The Accuracy_Scor :: 0.5824782951854776\n",
      "The Con_Matrix ::\n",
      " [[648   0]\n",
      " [529  90]]\n",
      "--------------\n",
      "----\n"
     ]
    }
   ],
   "source": [
    "for Name , Model in Models.items() :\n",
    "    print(f\"The Model :: {Name}\\n----------\")\n",
    "    Model.fit(tf_train , y_train)\n",
    "    Train_score = Model.score(tf_train , y_train)\n",
    "    Test_score  = Model.score(tf_test , y_test)\n",
    "    y_pred = Model.predict(tf_test)\n",
    "    Acurace_Score = accuracy_score(y_test , y_pred)\n",
    "    Con_Matrix = confusion_matrix(y_test , y_pred)\n",
    "    print(f\"The Traing_Score :: {Train_score}\\nThe Testing_Score :: {Test_score}\\nThe Accuracy_Scor :: {Acurace_Score}\\nThe Con_Matrix ::\\n {Con_Matrix}\\n--------------\\n----\")"
   ]
  },
  {
   "cell_type": "markdown",
   "id": "1ce61c9c",
   "metadata": {},
   "source": [
    "* Select most efficient model with high Performance and accuracy"
   ]
  },
  {
   "cell_type": "code",
   "execution_count": 26,
   "id": "c1c945ee",
   "metadata": {},
   "outputs": [
    {
     "name": "stdout",
     "output_type": "stream",
     "text": [
      "0.9982241515390686\n",
      "0.9408050513022889\n",
      "--------------------------------------------------------------------------------\n"
     ]
    }
   ],
   "source": [
    "SVM_Model = SVC()\n",
    "SVM_Model.fit(tf_train , y_train)\n",
    "print(SVM_Model.score(tf_train , y_train))\n",
    "print(SVM_Model.score(tf_test , y_test))\n",
    "print(\"-\" * 80)"
   ]
  },
  {
   "cell_type": "markdown",
   "id": "6d6080e8",
   "metadata": {},
   "source": [
    "<p id = \"Evaluation\">Evaluate_Model</p>"
   ]
  },
  {
   "cell_type": "code",
   "execution_count": 27,
   "id": "e19d06cc",
   "metadata": {},
   "outputs": [
    {
     "data": {
      "text/plain": [
       "0.9982241515390686"
      ]
     },
     "execution_count": 27,
     "metadata": {},
     "output_type": "execute_result"
    }
   ],
   "source": [
    "SVM_Model.score(tf_train , y_train)"
   ]
  },
  {
   "cell_type": "code",
   "execution_count": 28,
   "id": "8cf313dc",
   "metadata": {},
   "outputs": [
    {
     "data": {
      "text/plain": [
       "0.9408050513022889"
      ]
     },
     "execution_count": 28,
     "metadata": {},
     "output_type": "execute_result"
    }
   ],
   "source": [
    "SVM_Model.score(tf_test , y_test)"
   ]
  },
  {
   "cell_type": "code",
   "execution_count": 29,
   "id": "f139a271",
   "metadata": {},
   "outputs": [
    {
     "data": {
      "text/plain": [
       "0.5824782951854776"
      ]
     },
     "execution_count": 29,
     "metadata": {},
     "output_type": "execute_result"
    }
   ],
   "source": [
    "Ac_Sore_RF = accuracy_score(y_test , y_pred)\n",
    "Ac_Sore_RF"
   ]
  },
  {
   "cell_type": "code",
   "execution_count": 30,
   "id": "06f7813a",
   "metadata": {},
   "outputs": [
    {
     "data": {
      "text/plain": [
       "array([[648,   0],\n",
       "       [529,  90]], dtype=int64)"
      ]
     },
     "execution_count": 30,
     "metadata": {},
     "output_type": "execute_result"
    }
   ],
   "source": [
    "con_Matrix = confusion_matrix(y_test , y_pred)\n",
    "con_Matrix"
   ]
  },
  {
   "cell_type": "code",
   "execution_count": 31,
   "id": "9be43c91",
   "metadata": {},
   "outputs": [
    {
     "data": {
      "text/plain": [
       "<AxesSubplot:>"
      ]
     },
     "execution_count": 31,
     "metadata": {},
     "output_type": "execute_result"
    },
    {
     "data": {
      "image/png": "[encoded data removed]",
      "text/plain": [
       "<Figure size 720x720 with 2 Axes>"
      ]
     },
     "metadata": {},
     "output_type": "display_data"
    }
   ],
   "source": [
    "sns.set( rc = {\"figure.figsize\" : [10 , 10]} , font_scale=1.5)\n",
    "\n",
    "sns.heatmap(con_Matrix , annot = True , cmap=\"RdYlBu\" , linecolor = 'k' , linewidths= 1)"
   ]
  },
  {
   "cell_type": "markdown",
   "id": "94c6b1a2",
   "metadata": {},
   "source": [
    "<p id = \"Save\">Save_Model</p>"
   ]
  },
  {
   "cell_type": "code",
   "execution_count": 40,
   "id": "3255c1a2",
   "metadata": {},
   "outputs": [],
   "source": [
    "import joblib\n",
    "Model = joblib.dump(SVM_Model , \"Model.h5\")\n",
    "tf_tech = joblib.dump(vectorizer , \"tfidf.h5\")"
   ]
  },
  {
   "cell_type": "markdown",
   "id": "12a4a5e9",
   "metadata": {},
   "source": [
    "* Detecting Fake and REAL News"
   ]
  },
  {
   "cell_type": "markdown",
   "id": "68fee829",
   "metadata": {},
   "source": [
    "<p id = \"conclusions\">conclusions</p>"
   ]
  },
  {
   "cell_type": "code",
   "execution_count": 41,
   "id": "c6a9edb2",
   "metadata": {},
   "outputs": [
    {
     "data": {
      "text/plain": [
       "0       Daniel Greenfield, a Shillman Journalism Fello...\n",
       "1       Google Pinterest Digg Linkedin Reddit Stumbleu...\n",
       "2       U.S. Secretary of State John F. Kerry said Mon...\n",
       "3       — Kaydee King (@KaydeeKing) November 9, 2016 T...\n",
       "4       It's primary day in New York and front-runners...\n",
       "                              ...                        \n",
       "6330    The State Department told the Republican Natio...\n",
       "6331    The ‘P’ in PBS Should Stand for ‘Plutocratic’ ...\n",
       "6332     Anti-Trump Protesters Are Tools of the Oligar...\n",
       "6333    ADDIS ABABA, Ethiopia —President Obama convene...\n",
       "6334    Jeb Bush Is Suddenly Attacking Trump. Here's W...\n",
       "Name: text, Length: 6335, dtype: object"
      ]
     },
     "execution_count": 41,
     "metadata": {},
     "output_type": "execute_result"
    }
   ],
   "source": [
    "x"
   ]
  },
  {
   "cell_type": "code",
   "execution_count": 42,
   "id": "ac844db1",
   "metadata": {},
   "outputs": [],
   "source": [
    "custom_data = [\"It’s an act of desperation. When a presidential candidate decides that her only option is to try and destroy the credibility of the FBI, that’s not hubris, it’s fear of what the FBI might be about to reveal about her. \\nDuring the original FBI investigation, Hillary Clinton was confident that she could ride it out. And she had good reason for believing that\"]"
   ]
  },
  {
   "cell_type": "code",
   "execution_count": 43,
   "id": "a345ae83",
   "metadata": {},
   "outputs": [],
   "source": [
    "custom_data = vectorizer.transform(custom_data)"
   ]
  },
  {
   "cell_type": "code",
   "execution_count": 44,
   "id": "7c05a426",
   "metadata": {},
   "outputs": [
    {
     "data": {
      "text/plain": [
       "array(['FAKE'], dtype=object)"
      ]
     },
     "execution_count": 44,
     "metadata": {},
     "output_type": "execute_result"
    }
   ],
   "source": [
    "prediction = SVM_Model.predict(custom_data)\n",
    "prediction"
   ]
  },
  {
   "cell_type": "markdown",
   "id": "5935ab58",
   "metadata": {},
   "source": [
    "# Summary :\n",
    "********************************************\n",
    " * Today, we learned to detect fake news with Python. We took a political dataset, implemented a TfidfVectorizer, initialized a Support vector Classifier, and fit our model. We ended up obtaining an accuracy of 94.82% in magnitude and on that case we will important less value of False Positive."
   ]
  },
  {
   "cell_type": "code",
   "execution_count": null,
   "id": "48d3028e",
   "metadata": {},
   "outputs": [],
   "source": []
  }
 ],
 "metadata": {
  "kernelspec": {
   "display_name": "Python 3",
   "language": "python",
   "name": "python3"
  },
  "language_info": {
   "codemirror_mode": {
    "name": "ipython",
    "version": 3
   },
   "file_extension": ".py",
   "mimetype": "text/x-python",
   "name": "python",
   "nbconvert_exporter": "python",
   "pygments_lexer": "ipython3",
   "version": "3.8.8"
  }
 },
 "nbformat": 4,
 "nbformat_minor": 5
}
